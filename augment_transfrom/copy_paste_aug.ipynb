{
 "cells": [
  {
   "cell_type": "code",
   "execution_count": 12,
   "id": "49a676d6-1a6a-4c10-a36d-8610797f0794",
   "metadata": {},
   "outputs": [
    {
     "name": "stdout",
     "output_type": "stream",
     "text": [
      "There is existing mask dict file. load...\n"
     ]
    }
   ],
   "source": [
    "import cv2\n",
    "from PIL import Image\n",
    "import numpy as np\n",
    "import glob\n",
    "import json\n",
    "import os\n",
    "\n",
    "home_image_root = \"../yolov5/dataset_person/images\"\n",
    "home_bbox_root = \"../yolov5/dataset_person/labels\" # .txt, Should contain the name of the corresponding image\n",
    "\n",
    "# home_image_root = \"office_bg\"\n",
    "# home_bbox_root = None\n",
    "\n",
    "home_mask_root = None\n",
    "away_image_root = \"image\"\n",
    "away_bbox_root = None\n",
    "away_mask_root = \"mask\" # .png, Should contain the name of the corresponding image\n",
    "\n",
    "home_mask_dict_path = None\n",
    "away_mask_dict_path = None\n",
    "\n",
    "home_image_exts = ['.jpg', '.png']\n",
    "home_bbox_exts = ['.txt']\n",
    "home_mask_exts = ['.png']\n",
    "away_image_exts = ['.jpg', '.png']\n",
    "away_bbox_exts = ['.txt']\n",
    "away_mask_exts = ['.png']\n",
    "\n",
    "\n",
    "def make_mask_dict(image_paths, mask_paths, save=True, save_name=\"default.json\"):\n",
    "\n",
    "    if os.path.isfile(save_name):\n",
    "        print(\"There is existing mask dict file. load...\")\n",
    "        with open(save_name, 'r') as f:\n",
    "            mask_dict = json.loads(f.readline())\n",
    "        return mask_dict\n",
    "    \n",
    "    print(f\"Making mask dict at {save_name}...\")\n",
    "    \n",
    "    mask_dict = {}\n",
    "    for path in image_paths:\n",
    "\n",
    "        for mask_path in mask_paths:\n",
    "\n",
    "            image_id = os.path.basename(path).split('.')[0]\n",
    "            if image_id in mask_path:\n",
    "                if image_id not in mask_dict:\n",
    "                    mask_dict[image_id] = [mask_path]\n",
    "                else:\n",
    "                    mask_dict[image_id].append(mask_path)\n",
    "\n",
    "    if save:\n",
    "        with open(save_name, \"w\") as outfile:\n",
    "            json.dump(mask_dict, outfile)\n",
    "                    \n",
    "    print(\"Done.\")\n",
    "    return mask_dict\n",
    "\n",
    "def get_ext_paths(root, exts):\n",
    "    paths = []\n",
    "    for ext in exts:\n",
    "        paths += glob.glob(root + f'/*{ext}')\n",
    "        \n",
    "    return paths\n",
    "\n",
    "home_image_paths = get_ext_paths(home_image_root, home_image_exts)\n",
    "if home_bbox_root is not None:\n",
    "    home_bbox_paths = get_ext_paths(home_bbox_root, home_bbox_exts)\n",
    "# home_mask_paths = None\n",
    "\n",
    "away_image_paths = get_ext_paths(away_image_root, away_image_exts)\n",
    "# away_bbox_paths = None\n",
    "\n",
    "if away_mask_dict_path is None:\n",
    "    away_mask_dict = make_mask_dict(away_image_paths, get_ext_paths(away_mask_root, away_mask_exts), save=True, save_name=\"away_mask.json\")\n",
    "else:\n",
    "    with open(away_mask_dict_path, 'r') as f:\n",
    "        away_mask_dict = json.loads(f.readline())"
   ]
  },
  {
   "cell_type": "code",
   "execution_count": 13,
   "id": "6a657ac7-94cb-4183-bf7e-0cdcc44c39ec",
   "metadata": {},
   "outputs": [
    {
     "data": {
      "text/plain": [
       "['0 0.12395833333333334 0.29953703703703705 0.10833333333333334 0.125\\n',\n",
       " '0 0.34453125 0.9458333333333333 0.0296875 0.06018518518518518\\n']"
      ]
     },
     "execution_count": 13,
     "metadata": {},
     "output_type": "execute_result"
    }
   ],
   "source": [
    "home_bboxes"
   ]
  },
  {
   "cell_type": "code",
   "execution_count": 14,
   "id": "e9667020-431d-47ce-8d76-f78b77a31677",
   "metadata": {},
   "outputs": [
    {
     "name": "stdout",
     "output_type": "stream",
     "text": [
      "force show==False during saving mode..\n",
      "saving 4999/5000 images..\n",
      "complete!\n"
     ]
    }
   ],
   "source": [
    "bbox_format = 'yolo' # center xywh\n",
    "save = True\n",
    "show = True # should be False if you wanna save\n",
    "save_root = 'human_phone'\n",
    "amount = 5000\n",
    "\n",
    "if save:\n",
    "    print(\"force show==False during saving mode..\")\n",
    "    show = False\n",
    "\n",
    "\n",
    "cnt = 0    \n",
    "while(cnt < amount):\n",
    "    if save:\n",
    "        print(f\"saving {cnt}/{amount} images..\", end='\\r')\n",
    "    home_idx = np.random.randint(len(home_image_paths))\n",
    "    home_img_path = home_image_paths[home_idx]\n",
    "    ff = np.fromfile(home_img_path, np.uint8)\n",
    "    home_img = cv2.imdecode(ff, cv2.IMREAD_COLOR)\n",
    "    \n",
    "    if home_bbox_root is not None:\n",
    "        with open(home_bbox_paths[home_idx], 'r') as f:\n",
    "            home_bboxes = f.readlines()\n",
    "\n",
    "        max_person_width = 0\n",
    "        for line in home_bboxes:\n",
    "            l = line.replace('\\n', '').split(' ')\n",
    "            label, xywh = l[0], [float(s) for s in l[1:]]\n",
    "\n",
    "            h, w = home_img.shape[:2]\n",
    "\n",
    "            x1, y1, x2, y2 = int((xywh[0]-xywh[2]/2)*w), int((xywh[1]-xywh[3]/2)*h), int((xywh[0]+xywh[2]/2)*w), int((xywh[1]+xywh[3]/2)*h)\n",
    "            if show:\n",
    "                cv2.rectangle(home_img, (x1, y1), (x2, y2), (255,0,0), 2)\n",
    "\n",
    "            if max_person_width < x2-x1:\n",
    "                max_person_width = x2-x1\n",
    "\n",
    "        if home_bboxes[-1][-1] != '\\n':\n",
    "            home_bboxes[-1] += '\\n'\n",
    "\n",
    "        # print(max_person_width)\n",
    "        if max_person_width < 100:\n",
    "            continue\n",
    "    else:\n",
    "        home_bboxes = []\n",
    "\n",
    "    for _ in range(np.random.randint(1,4)):\n",
    "\n",
    "        away_idx = np.random.randint(len(away_image_paths))\n",
    "        away_img = cv2.imread(away_image_paths[away_idx])\n",
    "        away_mask = cv2.imread(np.random.choice(away_mask_dict[os.path.basename(away_image_paths[away_idx]).split('.')[0]]))\n",
    "\n",
    "\n",
    "\n",
    "        away_mask = cv2.cvtColor(away_mask, cv2.COLOR_BGR2GRAY)\n",
    "        bbox = cv2.boundingRect(cv2.findNonZero(away_mask))\n",
    "\n",
    "        # print(home_idx, away_idx, home_bboxes, bbox)\n",
    "\n",
    "        # cv2.rectangle(away_img, [bbox[0], bbox[1]], [bbox[0]+bbox[2], bbox[1]+bbox[3]], (255,0,0), 3)\n",
    "\n",
    "        cropped_away_img = away_img[bbox[1]:bbox[1]+bbox[3], bbox[0]:bbox[0]+bbox[2]]\n",
    "        cropped_away_mask = away_mask[bbox[1]:bbox[1]+bbox[3], bbox[0]:bbox[0]+bbox[2]]\n",
    "\n",
    "        # display(Image.fromarray(home_img))\n",
    "        # display(Image.fromarray(away_img))\n",
    "        # display(Image.fromarray(away_mask))\n",
    "        # display(Image.fromarray(cropped_away_img))\n",
    "        # display(Image.fromarray(cropped_away_mask))\n",
    "\n",
    "        home_h, home_w = home_img.shape[:2]\n",
    "\n",
    "\n",
    "\n",
    "        while(True):\n",
    "            resize_factor = np.random.uniform(0.05, 0.6)\n",
    "\n",
    "            h, w = cropped_away_img.shape[:2]\n",
    "            new_h, new_w = int(h*resize_factor), int(w*resize_factor)\n",
    "\n",
    "            cropped_away_img = cv2.resize(cropped_away_img, dsize=(new_w, new_h))\n",
    "            cropped_away_mask = cv2.resize(cropped_away_mask, dsize=(new_w, new_h))\n",
    "            # print(new_w, new_h)\n",
    "\n",
    "            if home_w > new_w and home_h > new_h:\n",
    "                break\n",
    "\n",
    "\n",
    "        x1 = np.random.randint(home_w - new_w)\n",
    "        y1 = np.random.randint(home_h - new_h)\n",
    "        x2 = x1 + new_w\n",
    "        y2 = y1 + new_h\n",
    "\n",
    "\n",
    "        fg = cv2.bitwise_and(cropped_away_img, cropped_away_img, mask=cropped_away_mask)\n",
    "        bg = cv2.bitwise_and(home_img[y1:y2, x1:x2], home_img[y1:y2, x1:x2], mask=cv2.bitwise_not(cropped_away_mask))\n",
    "\n",
    "        home_img[y1:y2, x1:x2] = fg+bg\n",
    "\n",
    "        if show:\n",
    "            cv2.rectangle(home_img, (x1,y1), (x2,y2), (0,255,0), 2)\n",
    "        if save:\n",
    "            x1, y1, x2, y2, home_w, home_h\n",
    "\n",
    "            x = (x1+x2)/2/home_w\n",
    "            y = (y1+y2)/2/home_h\n",
    "            w = (x2-x1)/home_w\n",
    "            h = (y2-y1)/home_h\n",
    "\n",
    "            home_bboxes.append(f'0 {x} {y} {w} {h}\\n')\n",
    "\n",
    "    if show:\n",
    "        display(Image.fromarray(home_img))\n",
    "    if save:\n",
    "        save_path = os.path.join(save_root, \n",
    "                                 'images', \n",
    "                                 f\"{str(cnt).zfill(len(str(amount)))}_\" + os.path.basename(home_img_path))\n",
    "        label_save_path = save_path.replace('images', 'labels').replace('.jpg', '.txt')\n",
    "        \n",
    "        os.makedirs(os.path.dirname(save_path), exist_ok=True)\n",
    "        os.makedirs(os.path.dirname(label_save_path), exist_ok=True)\n",
    "        \n",
    "        cv2.imwrite(save_path, home_img)\n",
    "        with open(label_save_path, \"w\") as f:\n",
    "            f.writelines(home_bboxes)\n",
    "            \n",
    "    cnt += 1\n",
    "    \n",
    "print(\"\\ncomplete!\")"
   ]
  },
  {
   "cell_type": "code",
   "execution_count": 7,
   "id": "11dbe5ea-d1d4-486e-9607-7c849a7dda13",
   "metadata": {},
   "outputs": [
    {
     "data": {
      "text/plain": [
       "(None, 'office_bg\\\\전염병 일에서 일하는 홈 오피스의 3d 렌더링 화상 회의 배경에_y.jpg')"
      ]
     },
     "execution_count": 7,
     "metadata": {},
     "output_type": "execute_result"
    }
   ],
   "source": [
    "cv2.imread(home_img_path), home_img_path"
   ]
  },
  {
   "cell_type": "code",
   "execution_count": 89,
   "id": "91d06bef-b981-4ac6-84b0-c265bd65b74a",
   "metadata": {},
   "outputs": [
    {
     "ename": "error",
     "evalue": "OpenCV(4.5.5) D:\\a\\opencv-python\\opencv-python\\opencv\\modules\\core\\src\\count_non_zero.dispatch.cpp:160: error: (-215:Assertion failed) src.channels() == 1 && src.dims == 2 in function 'cv::findNonZero'\n",
     "output_type": "error",
     "traceback": [
      "\u001b[1;31m---------------------------------------------------------------------------\u001b[0m",
      "\u001b[1;31merror\u001b[0m                                     Traceback (most recent call last)",
      "Input \u001b[1;32mIn [89]\u001b[0m, in \u001b[0;36m<cell line: 2>\u001b[1;34m()\u001b[0m\n\u001b[0;32m      1\u001b[0m \u001b[38;5;66;03m# away_mask = cv2.cvtColor(away_mask, cv2.COLOR_BGR2GRAY)\u001b[39;00m\n\u001b[1;32m----> 2\u001b[0m bbox \u001b[38;5;241m=\u001b[39m cv2\u001b[38;5;241m.\u001b[39mboundingRect(\u001b[43mcv2\u001b[49m\u001b[38;5;241;43m.\u001b[39;49m\u001b[43mfindNonZero\u001b[49m\u001b[43m(\u001b[49m\u001b[43maway_mask\u001b[49m\u001b[43m)\u001b[49m)\n\u001b[0;32m      4\u001b[0m cropped_img \u001b[38;5;241m=\u001b[39m away_img[bbox[\u001b[38;5;241m1\u001b[39m]:bbox[\u001b[38;5;241m3\u001b[39m], bbox[\u001b[38;5;241m0\u001b[39m]:bbox[\u001b[38;5;241m2\u001b[39m]]\n\u001b[0;32m      6\u001b[0m display(Image\u001b[38;5;241m.\u001b[39mfromarray(cropped_img))\n",
      "\u001b[1;31merror\u001b[0m: OpenCV(4.5.5) D:\\a\\opencv-python\\opencv-python\\opencv\\modules\\core\\src\\count_non_zero.dispatch.cpp:160: error: (-215:Assertion failed) src.channels() == 1 && src.dims == 2 in function 'cv::findNonZero'\n"
     ]
    }
   ],
   "source": [
    "\n",
    "\n",
    "cropped_img = away_img[bbox[1]:bbox[3], bbox[0]:bbox[2]]\n",
    "\n",
    "display(Image.fromarray(cropped_img))"
   ]
  },
  {
   "cell_type": "code",
   "execution_count": 36,
   "id": "20b3159a-d4b0-40f0-bf75-1b2b875f544b",
   "metadata": {},
   "outputs": [],
   "source": []
  },
  {
   "cell_type": "code",
   "execution_count": 35,
   "id": "97e5e973-b2d7-4c8e-b822-0ff7dcd900bb",
   "metadata": {},
   "outputs": [
    {
     "data": {
      "text/plain": [
       "3781"
      ]
     },
     "execution_count": 35,
     "metadata": {},
     "output_type": "execute_result"
    }
   ],
   "source": [
    "len(away_mask_dict)"
   ]
  },
  {
   "cell_type": "code",
   "execution_count": 25,
   "id": "f9f5138c-fa71-40a4-803e-1d887dff292c",
   "metadata": {},
   "outputs": [],
   "source": [
    "with open(\"sample.json\", \"r\") as infile:\n",
    "    data = infile.readline()"
   ]
  },
  {
   "cell_type": "code",
   "execution_count": 29,
   "id": "c96e5a7c-a50c-40bc-8867-600cdb4bff71",
   "metadata": {},
   "outputs": [
    {
     "data": {
      "text/plain": [
       "['mask\\\\0000b9115cdf1e54_m050k8_76cbabf8.png']"
      ]
     },
     "execution_count": 29,
     "metadata": {},
     "output_type": "execute_result"
    }
   ],
   "source": [
    "temp = json.loads(data)\n"
   ]
  },
  {
   "cell_type": "code",
   "execution_count": null,
   "id": "b5bb8e15-ed58-4e89-b6dc-1ba48828bf6a",
   "metadata": {},
   "outputs": [],
   "source": []
  }
 ],
 "metadata": {
  "kernelspec": {
   "display_name": "yolov5",
   "language": "python",
   "name": "yolov5"
  },
  "language_info": {
   "codemirror_mode": {
    "name": "ipython",
    "version": 3
   },
   "file_extension": ".py",
   "mimetype": "text/x-python",
   "name": "python",
   "nbconvert_exporter": "python",
   "pygments_lexer": "ipython3",
   "version": "3.8.13"
  }
 },
 "nbformat": 4,
 "nbformat_minor": 5
}
