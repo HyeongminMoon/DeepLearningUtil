{
 "cells": [
  {
   "cell_type": "code",
   "execution_count": 16,
   "id": "642a2080-d1c3-4dfd-b016-9ab162fb4d05",
   "metadata": {},
   "outputs": [],
   "source": [
    "import cv2\n",
    "import mediapy as media\n",
    "import numpy as np\n",
    "\n",
    "def load_video(file_path, image_size=None, original_fps=30, new_fps=5, start_time=None, end_time=None, gray=False):\n",
    "    \"\"\"Loads a video file into a TF tensor.\"\"\"\n",
    "    cap = cv2.VideoCapture(file_path)\n",
    "    \n",
    "    frameCount = int(cap.get(cv2.CAP_PROP_FRAME_COUNT))\n",
    "    frameWidth = int(cap.get(cv2.CAP_PROP_FRAME_WIDTH))\n",
    "    frameHeight = int(cap.get(cv2.CAP_PROP_FRAME_HEIGHT))\n",
    "    \n",
    "    ret = True\n",
    "\n",
    "    if image_size is None:\n",
    "        image_size = (frameWidth, frameHeight)\n",
    "    \n",
    "    if start_time and end_time:\n",
    "        start_frame = original_fps * start_time\n",
    "        end_frame = original_fps * end_time\n",
    "    else:\n",
    "        start_frame = 0\n",
    "        end_frame = frameCount\n",
    "        \n",
    "    fc = 0    \n",
    "    \n",
    "    fps_factor = original_fps / new_fps\n",
    "    frame_loc = 0\n",
    "    now_frame = 0\n",
    "\n",
    "    # print(end_frame, start_frame, fps_factor)\n",
    "    # print(int((end_frame - start_frame) / fps_factor))\n",
    "\n",
    "    if gray:\n",
    "        buf = np.zeros((int((end_frame - start_frame) / fps_factor), image_size[1], image_size[0]), np.dtype('uint8'))\n",
    "    else:\n",
    "        buf = np.zeros((int((end_frame - start_frame) / fps_factor), image_size[1], image_size[0], 3), np.dtype('uint8'))\n",
    "\n",
    "    while (fc < end_frame - start_frame  and ret):\n",
    "        ret, tmp = cap.read()\n",
    "        now_frame += 1\n",
    "        frame_loc += 1\n",
    "        if start_frame > now_frame:\n",
    "            continue\n",
    "        if end_frame < now_frame:\n",
    "            break\n",
    "        if frame_loc > fps_factor:\n",
    "            tmp = cv2.resize(tmp, dsize=image_size)\n",
    "            if gray:\n",
    "                buf[fc] = cv2.cvtColor(tmp, cv2.COLOR_BGR2GRAY)\n",
    "            else:\n",
    "                buf[fc] = cv2.cvtColor(tmp, cv2.COLOR_BGR2RGB)\n",
    "            fc += 1\n",
    "            frame_loc -= fps_factor\n",
    "    cap.release()\n",
    "    \n",
    "    return buf"
   ]
  },
  {
   "cell_type": "code",
   "execution_count": 89,
   "id": "cb88462e-f689-482a-a480-39dc274fdec2",
   "metadata": {},
   "outputs": [],
   "source": [
    "media.write_video('demo/sample_result0001.mp4', video, fps=30)"
   ]
  }
 ],
 "metadata": {
  "kernelspec": {
   "display_name": "torch191",
   "language": "python",
   "name": "torch191"
  },
  "language_info": {
   "codemirror_mode": {
    "name": "ipython",
    "version": 3
   },
   "file_extension": ".py",
   "mimetype": "text/x-python",
   "name": "python",
   "nbconvert_exporter": "python",
   "pygments_lexer": "ipython3",
   "version": "3.8.13"
  }
 },
 "nbformat": 4,
 "nbformat_minor": 5
}
