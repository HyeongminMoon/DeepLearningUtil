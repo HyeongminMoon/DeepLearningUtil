{
 "cells": [
  {
   "cell_type": "code",
   "execution_count": 4,
   "id": "d37e560e-cd85-452d-807a-3e458a7b5031",
   "metadata": {},
   "outputs": [],
   "source": [
    "import glob\n",
    "\n",
    "images = sorted(glob.glob(\"copy_paste/images/*.jpg\"))\n",
    "labels = sorted(glob.glob(\"copy_paste/labels/*.txt\"))\n",
    "\n",
    "import shutil\n",
    "import os\n",
    "for image in images[:int(len(images)*0.8)]:\n",
    "    shutil.copy(image, os.path.join(\"copy_paste/train/images/\", os.path.basename(image)))\n",
    "\n",
    "for image in images[int(len(images)*0.8):]:\n",
    "    shutil.copy(image, os.path.join(\"copy_paste/val/images/\", os.path.basename(image)))\n",
    "    \n",
    "for label in labels[:int(len(labels)*0.8)]:\n",
    "    shutil.copy(label, os.path.join(\"copy_paste/train/labels/\", os.path.basename(label)))\n",
    "\n",
    "for label in labels[int(len(images)*0.8):]:\n",
    "    shutil.copy(label, os.path.join(\"copy_paste/val/labels/\", os.path.basename(label)))"
   ]
  },
  {
   "cell_type": "code",
   "execution_count": null,
   "id": "71f03d56-b214-4148-b1c0-75e606ae3946",
   "metadata": {},
   "outputs": [],
   "source": []
  }
 ],
 "metadata": {
  "kernelspec": {
   "display_name": "Python 3 (ipykernel)",
   "language": "python",
   "name": "python3"
  },
  "language_info": {
   "codemirror_mode": {
    "name": "ipython",
    "version": 3
   },
   "file_extension": ".py",
   "mimetype": "text/x-python",
   "name": "python",
   "nbconvert_exporter": "python",
   "pygments_lexer": "ipython3",
   "version": "3.8.13"
  }
 },
 "nbformat": 4,
 "nbformat_minor": 5
}
